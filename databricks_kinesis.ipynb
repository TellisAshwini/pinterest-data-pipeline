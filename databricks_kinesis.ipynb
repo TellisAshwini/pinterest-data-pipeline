{
 "cells": [
  {
   "cell_type": "code",
   "execution_count": 0,
   "metadata": {
    "application/vnd.databricks.v1+cell": {
     "cellMetadata": {},
     "inputWidgets": {},
     "nuid": "c0acad73-dced-4ba6-93f7-84061953cc4f",
     "showTitle": false,
     "title": ""
    }
   },
   "outputs": [],
   "source": [
    "from pyspark.sql.functions import *\n",
    "from pyspark.sql.types import *\n",
    "import urllib"
   ]
  },
  {
   "cell_type": "code",
   "execution_count": 0,
   "metadata": {
    "application/vnd.databricks.v1+cell": {
     "cellMetadata": {},
     "inputWidgets": {},
     "nuid": "4f5b2687-39ac-490a-877c-2f84d09a6429",
     "showTitle": false,
     "title": ""
    }
   },
   "outputs": [],
   "source": [
    "file_type = \"csv\"\n",
    "first_row_is_header = \"true\"\n",
    "delimiter = \",\"\n",
    "\n",
    "aws_keys_df = spark.read.format(file_type)\\\n",
    ".option(\"header\", first_row_is_header)\\\n",
    ".option(\"sep\", delimiter)\\\n",
    ".load(\"/FileStore/tables/authentication_credentials.csv\")\n",
    "\n",
    "KINESIS_REGION = \"us-east-1\"\n",
    "ACCESS_KEY = aws_keys_df.where(col('User name')=='databricks-user').select('Access key ID').collect()[0]['Access key ID']\n",
    "SECRET_KEY = aws_keys_df.where(col('User name')=='databricks-user').select('Secret access key').collect()[0]['Secret access key']\n",
    "ENCODED_SECRET_KEY = urllib.parse.quote(string=SECRET_KEY, safe=\"\")"
   ]
  },
  {
   "cell_type": "code",
   "execution_count": 0,
   "metadata": {
    "application/vnd.databricks.v1+cell": {
     "cellMetadata": {},
     "inputWidgets": {},
     "nuid": "67de81db-af74-4780-bc89-42bc8758ea1f",
     "showTitle": false,
     "title": ""
    }
   },
   "outputs": [],
   "source": [
    "# df_pin\n",
    "KINESIS_STREAM_NAME = \"streaming-12f7a43505b1-pin\"\n",
    "kinesis_pin = (spark.readStream\n",
    "  .format(\"kinesis\")\n",
    "  .option(\"streamName\", KINESIS_STREAM_NAME)\n",
    "  .option(\"region\", KINESIS_REGION)\n",
    "  .option(\"initialPosition\", '{\"at_timestamp\": \"05/23/2023 00:00:00 GMT\", \"format\": \"MM/dd/yyyy HH:mm:ss ZZZ\"}')\n",
    "  .option(\"awsAccessKey\", ACCESS_KEY)\n",
    "  .option(\"awsSecretKey\", ENCODED_SECRET_KEY)\n",
    "  .load()\n",
    ")\n",
    "\n",
    "df_pin_stream = kinesis_pin.selectExpr(\"cast (data as STRING) jsonData\", \"approximateArrivalTimestamp\").withColumn(\"approximateArrivalDate\", to_date(col(\"approximateArrivalTimestamp\")))\n",
    "\n",
    "df_pin = df_pin_stream.select(json_tuple('jsonData', \"index\", \"unique_id\", \"title\", \"description\", \"follower_count\", \"poster_name\", \"tag_list\", \"is_image_or_video\", \"image_src\",  \"save_location\", \"category\", \"downloaded\").alias(\"index\", \"unique_id\", \"title\", \"description\", \"follower_count\", \"poster_name\", \"tag_list\", \"is_image_or_video\", \"image_src\",  \"save_location\", \"category\", \"downloaded\"))\n",
    "\n",
    "#---------------------------------------------------------------------------------------------------------------\n",
    "# df_geo\n",
    "KINESIS_STREAM_NAME = \"streaming-12f7a43505b1-geo\"\n",
    "kinesis_geo = (spark.readStream\n",
    ".format(\"kinesis\")\n",
    ".option(\"streamName\", KINESIS_STREAM_NAME)\n",
    ".option(\"region\", KINESIS_REGION)\n",
    ".option(\"initialPosition\", '{\"at_timestamp\": \"05/23/2023 00:00:00 GMT\", \"format\": \"MM/dd/yyyy HH:mm:ss ZZZ\"}')\n",
    ".option(\"awsAccessKey\", ACCESS_KEY)\n",
    ".option(\"awsSecretKey\", ENCODED_SECRET_KEY)\n",
    ".load()\n",
    ")\n",
    "\n",
    "df_geo_stream = kinesis_geo.selectExpr(\"cast (data as STRING) jsonData\", \"approximateArrivalTimestamp\").withColumn(\"approximateArrivalDate\", to_date(col(\"approximateArrivalTimestamp\")))\n",
    "\n",
    "df_geo = df_geo_stream.select(json_tuple('jsonData', 'ind', 'country', 'latitude', 'longitude', 'timestamp').alias('ind', 'country', 'latitude', 'longitude', 'timestamp'))\n",
    "\n",
    "#----------------------------------------------------------------------------------------------------------------\n",
    "# df_user\n",
    "KINESIS_STREAM_NAME = \"streaming-12f7a43505b1-user\"\n",
    "kinesis_user = (spark.readStream\n",
    "  .format(\"kinesis\")\n",
    "  .option(\"streamName\", KINESIS_STREAM_NAME)\n",
    "  .option(\"region\", KINESIS_REGION)\n",
    "  .option(\"initialPosition\", '{\"at_timestamp\": \"05/23/2023 00:00:00 GMT\", \"format\": \"MM/dd/yyyy HH:mm:ss ZZZ\"}')\n",
    "  .option(\"awsAccessKey\", ACCESS_KEY)\n",
    "  .option(\"awsSecretKey\", SECRET_KEY)\n",
    "  .load()\n",
    ")\n",
    "\n",
    "df_user_stream = kinesis_user.selectExpr(\"cast (data as STRING) jsonData\", \"approximateArrivalTimestamp\").withColumn(\"approximateArrivalDate\", to_date(col(\"approximateArrivalTimestamp\")))\n",
    "\n",
    "df_user = df_user_stream.select(json_tuple('jsonData', 'ind', \"first_name\", \"last_name\", 'age', 'date_joined').alias('ind', \"first_name\", \"last_name\", 'age', 'date_joined'))"
   ]
  },
  {
   "cell_type": "code",
   "execution_count": 0,
   "metadata": {
    "application/vnd.databricks.v1+cell": {
     "cellMetadata": {},
     "inputWidgets": {},
     "nuid": "543d1f92-80ea-4a37-8121-a3f0203d71f8",
     "showTitle": false,
     "title": ""
    }
   },
   "outputs": [],
   "source": [
    "#DATA CLEANING \n",
    "# df_pin\n",
    "df_pin = df_pin.dropDuplicates()\n",
    "df_pin = df_pin.withColumnRenamed('index', 'ind')\n",
    "df_pin = df_pin.select(\"ind\", \"unique_id\", \"title\", \"description\", \"follower_count\", \"poster_name\", \n",
    "\"tag_list\", \"is_image_or_video\", \"image_src\", \"save_location\", \"category\", \"downloaded\")\n",
    "df_pin = df_pin.withColumn('follower_count', regexp_replace('follower_count', '[%k]', '000'))\n",
    "df_pin = df_pin.withColumn('follower_count', regexp_replace('follower_count', '[%M]', '000000'))\n",
    "df_pin = df_pin.withColumn('follower_count', regexp_replace('follower_count', '[%User Info Error%]', ''))\n",
    "df_pin = df_pin.withColumn('ind', df_pin['ind'].cast(IntegerType()))\n",
    "df_pin = df_pin.withColumn('downloaded', df_pin['downloaded'].cast(IntegerType()))\n",
    "df_pin = df_pin.withColumn('follower_count', df_pin['follower_count'].cast(IntegerType()))\n",
    "df_pin = df_pin.withColumn('save_location', regexp_replace('save_location', 'Local save in *', ''))\n",
    "df_pin.na.drop(how = \"all\")\n",
    "\n",
    "#------------------------------------------------------------------------------------------------------------\n",
    "#df_geo\n",
    "df_geo = df_geo.dropDuplicates()\n",
    "df_geo = df_geo.withColumn('ind', df_geo['ind'].cast(IntegerType()))\n",
    "df_geo = df_geo.withColumn(\"timestamp\", df_geo[\"timestamp\"].cast(TimestampType()))\n",
    "df_geo = df_geo.withColumn('longitude', df_geo['longitude'].cast(DoubleType()))\n",
    "df_geo = df_geo.withColumn('latitude', df_geo['latitude'].cast(DoubleType()))\n",
    "df_geo = df_geo.withColumn(\"coordinates\", array(col(\"latitude\"), col(\"longitude\")))\n",
    "df_geo = df_geo.drop('latitude', 'longitude')\n",
    "df_geo = df_geo.select(\"ind\", \"country\", \"coordinates\", \"timestamp\")\n",
    "\n",
    "#----------------------------------------------------------------------------------------------------------------\n",
    "# df_user\n",
    "df_user = df_user.dropDuplicates()\n",
    "df_user = df_user.withColumn(\"user_name\", concat(col(\"first_name\"), lit(\" \"), col(\"last_name\")))\n",
    "df_user = df_user.drop(\"first_name\", \"last_name\")\n",
    "df_user = df_user.withColumn('date_joined', df_user['date_joined'].cast(TimestampType()))\n",
    "df_user = df_user.withColumn('age', df_user['age'].cast(TimestampType()))\n",
    "df_user = df_user.select(\"ind\", \"user_name\", \"age\", \"date_joined\")"
   ]
  },
  {
   "cell_type": "code",
   "execution_count": 0,
   "metadata": {
    "application/vnd.databricks.v1+cell": {
     "cellMetadata": {},
     "inputWidgets": {},
     "nuid": "aad08d19-9624-4d67-a52e-0138ded13d56",
     "showTitle": false,
     "title": ""
    }
   },
   "outputs": [],
   "source": [
    "#CREATE DELTA TABLE \n",
    "\n",
    "#df_pin\n",
    "df_pin.writeStream.format(\"delta\").option(\"checkpointLocation\",\"dbfs:/user/hive/warehouse/12f7a43505b1_pin_table\").table('12f7a43505b1_pin_table')\n",
    "\n",
    "#df_geo\n",
    "df_geo.writeStream.format(\"delta\").option(\"checkpointLocation\",\"dbfs:/user/hive/warehouse/12f7a43505b1_geo_table\").table('12f7a43505b1_geo_table')\n",
    "\n",
    "#df_user\n",
    "df_user.writeStream.format(\"delta\").option(\"checkpointLocation\",\"dbfs:/user/hive/warehouse/12f7a43505b1_user_table\").table('12f7a43505b1_user_table')"
   ]
  }
 ],
 "metadata": {
  "application/vnd.databricks.v1+notebook": {
   "dashboards": [],
   "language": "python",
   "notebookMetadata": {
    "mostRecentlyExecutedCommandWithImplicitDF": {
     "commandId": 621810419625197,
     "dataframes": [
      "_sqldf"
     ]
    },
    "pythonIndentUnit": 4
   },
   "notebookName": "databricks_kinesis",
   "widgets": {}
  }
 },
 "nbformat": 4,
 "nbformat_minor": 0
}

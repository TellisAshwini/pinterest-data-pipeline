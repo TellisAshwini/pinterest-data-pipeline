{
 "cells": [
  {
   "attachments": {},
   "cell_type": "markdown",
   "metadata": {},
   "source": [
    "# **Batch Data Processing using Spark on Databricks**"
   ]
  },
  {
   "cell_type": "code",
   "execution_count": 2,
   "metadata": {
    "application/vnd.databricks.v1+cell": {
     "cellMetadata": {},
     "inputWidgets": {},
     "nuid": "d3abd155-f81e-42dc-9098-9ce208d26874",
     "showTitle": false,
     "title": ""
    }
   },
   "outputs": [],
   "source": [
    "from pyspark.sql.functions import *\n",
    "from pyspark.sql.types import *\n",
    "import urllib"
   ]
  },
  {
   "attachments": {},
   "cell_type": "markdown",
   "metadata": {},
   "source": [
    "> ### Extracting the batch data"
   ]
  },
  {
   "attachments": {},
   "cell_type": "markdown",
   "metadata": {},
   "source": [
    "*Reading the csv file containing the AWS keys to the databricks*"
   ]
  },
  {
   "cell_type": "code",
   "execution_count": null,
   "metadata": {
    "application/vnd.databricks.v1+cell": {
     "cellMetadata": {},
     "inputWidgets": {},
     "nuid": "ae1d9a5c-9650-4657-aafc-20420304ca7c",
     "showTitle": false,
     "title": ""
    }
   },
   "outputs": [],
   "source": [
    "file_type = \"csv\"\n",
    "first_row_is_header = \"true\"\n",
    "delimiter = \",\"\n",
    "aws_keys_df = spark.read.format(file_type)\\\n",
    ".option(\"header\", first_row_is_header)\\\n",
    ".option(\"sep\", delimiter)\\\n",
    ".load(\"/FileStore/tables/authentication_credentials.csv\")"
   ]
  },
  {
   "attachments": {},
   "cell_type": "markdown",
   "metadata": {},
   "source": [
    "*Mounting S3 bucket to the databricks*"
   ]
  },
  {
   "cell_type": "code",
   "execution_count": null,
   "metadata": {
    "application/vnd.databricks.v1+cell": {
     "cellMetadata": {
      "byteLimit": 2048000,
      "rowLimit": 10000
     },
     "inputWidgets": {},
     "nuid": "577cbb01-5d31-4c8c-bde3-dfc2a3b8da72",
     "showTitle": false,
     "title": ""
    }
   },
   "outputs": [
    {
     "data": {
      "text/html": [
       "<style scoped>\n",
       "  .ansiout {\n",
       "    display: block;\n",
       "    unicode-bidi: embed;\n",
       "    white-space: pre-wrap;\n",
       "    word-wrap: break-word;\n",
       "    word-break: break-all;\n",
       "    font-family: \"Source Code Pro\", \"Menlo\", monospace;;\n",
       "    font-size: 13px;\n",
       "    color: #555;\n",
       "    margin-left: 4px;\n",
       "    line-height: 19px;\n",
       "  }\n",
       "</style>\n",
       "<div class=\"ansiout\"></div>"
      ]
     },
     "metadata": {
      "application/vnd.databricks.v1+output": {
       "addedWidgets": {},
       "arguments": {},
       "data": "<div class=\"ansiout\"></div>",
       "datasetInfos": [],
       "metadata": {},
       "removedWidgets": [],
       "type": "html"
      }
     },
     "output_type": "display_data"
    }
   ],
   "source": [
    "ACCESS_KEY = aws_keys_df.where(col('User name')=='databricks-user').select('Access key ID').collect()[0]['Access key ID']\n",
    "SECRET_KEY = aws_keys_df.where(col('User name')=='databricks-user').select('Secret access key').collect()[0]['Secret access key']\n",
    "ENCODED_SECRET_KEY = urllib.parse.quote(string=SECRET_KEY, safe=\"\")\n",
    "\n",
    "AWS_S3_BUCKET = \"user-12f7a43505b1-bucket\"\n",
    "MOUNT_NAME = \"/mnt/pinterest_s3_mount\"\n",
    "SOURCE_URL = \"s3n://{0}:{1}@{2}\".format(ACCESS_KEY, ENCODED_SECRET_KEY, AWS_S3_BUCKET)\n",
    "dbutils.fs.mount(SOURCE_URL, MOUNT_NAME)"
   ]
  },
  {
   "attachments": {},
   "cell_type": "markdown",
   "metadata": {},
   "source": [
    ">### Creating Dataframes"
   ]
  },
  {
   "attachments": {},
   "cell_type": "markdown",
   "metadata": {},
   "source": [
    "*- Creating the following three dataframes: `df_pin`, `df_geo` and `df_user`*"
   ]
  },
  {
   "cell_type": "code",
   "execution_count": null,
   "metadata": {},
   "outputs": [],
   "source": [
    "topics =  {'df_pin':'12f7a43505b1.pin', 'df_geo':'12f7a43505b1.geo', 'df_user':'12f7a43505b1.user'}\n",
    "for df_name, topic in topics.items():\n",
    "    file_location = f\"/mnt/pinterest_s3_mount/topics/{topic}/partition=0/*.json\" \n",
    "    file_type = \"json\"\n",
    "    infer_schema = \"true\"\n",
    "    df_name = spark.read.format(file_type) \\\n",
    "    .option(\"inferSchema\", infer_schema) \\\n",
    "    .load(file_location)"
   ]
  },
  {
   "attachments": {},
   "cell_type": "markdown",
   "metadata": {},
   "source": [
    ">### Data Cleaning"
   ]
  },
  {
   "attachments": {},
   "cell_type": "markdown",
   "metadata": {},
   "source": [
    "#### *Data cleaning for df_pin*\n",
    " - Removing duplicate rows in the dataframe\n",
    " - Renaming the column `index` to `ind`\n",
    " - Re-ordering the column names in the dataframe\n",
    " - Replacing the values of `follower_count` column wherever necessary and hence converting the column into a integer data type\n",
    " - Removing any additional strings from the `save_location` column\n",
    " - Replacing all the NA with `None`\n",
    "- Dropping the rows where all columns have null values\n"
   ]
  },
  {
   "cell_type": "code",
   "execution_count": null,
   "metadata": {
    "application/vnd.databricks.v1+cell": {
     "cellMetadata": {},
     "inputWidgets": {},
     "nuid": "fdaedb20-0338-4913-ad64-8e8bfa46975c",
     "showTitle": false,
     "title": ""
    }
   },
   "outputs": [],
   "source": [
    "df_pin = df_pin.dropDuplicates()\n",
    "df_pin = df_pin.withColumnRenamed('index', 'ind')\n",
    "df_pin = df_pin.select(\"ind\", \"unique_id\", \"title\", \"description\", \"follower_count\", \"poster_name\", \n",
    "\"tag_list\", \"is_image_or_video\", \"image_src\", \"save_location\", \"category\", \"downloaded\")\n",
    "df_pin = df_pin.withColumn('follower_count', regexp_replace('follower_count', '[%k]', '000'))\n",
    "df_pin = df_pin.withColumn('follower_count', regexp_replace('follower_count', '[%M]', '000000'))\n",
    "df_pin = df_pin.withColumn('follower_count', regexp_replace('follower_count', '[%User Info Error%]', ''))\n",
    "df_pin = df_pin.withColumn('follower_count', df_pin['follower_count'].cast(IntegerType()))\n",
    "df_pin = df_pin.withColumn('save_location', regexp_replace('save_location', 'Local save in *', ''))\n",
    "df_pin.na.fill('None', ['is_image_or_video', 'image_src'])\n",
    "df_pin.na.drop(how = \"all\")"
   ]
  },
  {
   "attachments": {},
   "cell_type": "markdown",
   "metadata": {},
   "source": [
    "#### *Data cleaning for df_geo*\n",
    " - Removing duplicate rows in the dataframe\n",
    " - Creating new column `coordinates` with the values to be the array of `latitude` and `longitude` column and deleting these two columns\n",
    " - Converting the `timestamp` column into a timestamp data type\n",
    " - Re-ordering the column names in the dataframe"
   ]
  },
  {
   "cell_type": "code",
   "execution_count": null,
   "metadata": {
    "application/vnd.databricks.v1+cell": {
     "cellMetadata": {
      "byteLimit": 2048000,
      "rowLimit": 10000
     },
     "inputWidgets": {},
     "nuid": "e647fd28-a2a4-4b87-beff-c5ee3ff7bceb",
     "showTitle": false,
     "title": ""
    }
   },
   "outputs": [
    {
     "data": {
      "text/html": [
       "<style scoped>\n",
       "  .ansiout {\n",
       "    display: block;\n",
       "    unicode-bidi: embed;\n",
       "    white-space: pre-wrap;\n",
       "    word-wrap: break-word;\n",
       "    word-break: break-all;\n",
       "    font-family: \"Source Code Pro\", \"Menlo\", monospace;;\n",
       "    font-size: 13px;\n",
       "    color: #555;\n",
       "    margin-left: 4px;\n",
       "    line-height: 19px;\n",
       "  }\n",
       "</style>\n",
       "<div class=\"ansiout\"></div>"
      ]
     },
     "metadata": {
      "application/vnd.databricks.v1+output": {
       "addedWidgets": {},
       "arguments": {},
       "data": "<div class=\"ansiout\"></div>",
       "datasetInfos": [],
       "metadata": {},
       "removedWidgets": [],
       "type": "html"
      }
     },
     "output_type": "display_data"
    }
   ],
   "source": [
    "#df_geo\n",
    "df_geo = df_geo.dropDuplicates()\n",
    "df_geo = df_geo.withColumn(\"coordinates\", array(col(\"latitude\"), col(\"longitude\")))\n",
    "df_geo = df_geo.drop('latitude', 'longitude')\n",
    "df_geo = df_geo.withColumn(\"timestamp\", df_geo[\"timestamp\"].cast(TimestampType()))\n",
    "df_geo = df_geo.select(\"ind\", \"country\", \"coordinates\", \"timestamp\")"
   ]
  },
  {
   "attachments": {},
   "cell_type": "markdown",
   "metadata": {},
   "source": [
    "#### *Data cleaning for df_user*\n",
    " - Removing duplicate rows in the dataframe\n",
    " - Creating new column `user_name` by combining the `first_name` and `last_name` column and deleting these two columns \n",
    " - Converting the `date_joined` column into a timestamp data type\n",
    " - Re-ordering the column names in the dataframe"
   ]
  },
  {
   "cell_type": "code",
   "execution_count": null,
   "metadata": {},
   "outputs": [],
   "source": [
    "#df_user\n",
    "df_user = df_user.dropDuplicates()\n",
    "df_user = df_user.withColumn(\"user_name\", concat(col(\"first_name\"), lit(\" \"), col(\"last_name\")))\n",
    "df_user = df_user.drop(\"first_name\", \"last_name\")\n",
    "df_user = df_user.withColumn('date_joined', df_user['date_joined'].cast(TimestampType()))\n",
    "df_user = df_user.select(\"ind\", \"user_name\", \"age\", \"date_joined\")"
   ]
  },
  {
   "attachments": {},
   "cell_type": "markdown",
   "metadata": {},
   "source": [
    ">### Data Analysis"
   ]
  },
  {
   "attachments": {},
   "cell_type": "markdown",
   "metadata": {},
   "source": [
    "*The most popular Pinterest category, people post to, based on their country.*"
   ]
  },
  {
   "cell_type": "code",
   "execution_count": null,
   "metadata": {},
   "outputs": [],
   "source": [
    "df_pin.join(df_geo, 'ind').groupBy('country').agg(mode('category').alias('category'), count_distinct('category').alias('category_count')) \\\n",
    "  .orderBy('country').show()"
   ]
  },
  {
   "attachments": {},
   "cell_type": "markdown",
   "metadata": {},
   "source": [
    "*Number of posts each category had between 2018 and 2022 and most popular category in each year.*"
   ]
  },
  {
   "cell_type": "code",
   "execution_count": null,
   "metadata": {},
   "outputs": [],
   "source": [
    "df_pin.join(df_geo, 'ind').groupBy(year('timestamp').alias('post_year')).agg(mode('category').alias('category'), count_distinct('category') \\\n",
    "  .alias('category_count')).select('post_year', 'category', 'category_count').where(col('post_year').between('2018', '2022')) \\\n",
    "  .orderBy('post_year').show()"
   ]
  },
  {
   "attachments": {},
   "cell_type": "markdown",
   "metadata": {},
   "source": [
    "*Users with most followers in each country*"
   ]
  },
  {
   "cell_type": "code",
   "execution_count": null,
   "metadata": {},
   "outputs": [],
   "source": [
    "#STEP 1\n",
    "df_pin.join(df_geo, 'ind').groupBy('country').agg(max(struct('follower_count', 'poster_name')).alias('max')) \\\n",
    "  .selectExpr('country', 'max.poster_name', 'max.follower_count').orderBy(col('follower_count').desc()).show()\n",
    "#STEP 2\n",
    "df_pin.join(df_geo, 'ind').groupBy('country').agg(max(struct('follower_count', 'poster_name')).alias('max')) \\\n",
    "  .selectExpr('country', 'max.follower_count').orderBy(col('follower_count').desc()).show()"
   ]
  },
  {
   "attachments": {},
   "cell_type": "markdown",
   "metadata": {},
   "source": [
    "*The most popular category people post to, based on the age groups - 18-24, 25-35, 36-50, +50*"
   ]
  },
  {
   "cell_type": "code",
   "execution_count": null,
   "metadata": {},
   "outputs": [],
   "source": [
    "df_pin.join(df_user, 'ind').withColumn('age_group', expr(\"\"\"case\n",
    " when age BETWEEN 18 AND 24 THEN '18-24'\n",
    " when age BETWEEN 25 AND 35 THEN '25-35'\n",
    " when age BETWEEN 36 AND 50 THEN '36-50'\n",
    " when age> 50 THEN '+50'\n",
    " END\n",
    " \"\"\")).groupBy('age_group').agg(mode('category').alias('category'), count_distinct('category').alias('category_count')).show()"
   ]
  },
  {
   "attachments": {},
   "cell_type": "markdown",
   "metadata": {},
   "source": [
    "*The median follower count for users in the age groups, 18-24, 25-35, 36-50, +50*"
   ]
  },
  {
   "cell_type": "code",
   "execution_count": null,
   "metadata": {},
   "outputs": [],
   "source": [
    "df_pin.join(df_user, 'ind').withColumn('age_group', expr(\"\"\"case\n",
    " when age BETWEEN 18 AND 24 THEN '18-24'\n",
    " when age BETWEEN 25 AND 35 THEN '25-35'\n",
    " when age BETWEEN 36 AND 50 THEN '36-50'\n",
    " when age> 50 THEN '+50'\n",
    " END\n",
    " \"\"\")).groupBy('age_group').agg(median('follower_count').alias('median_follower_count')).show()"
   ]
  },
  {
   "attachments": {},
   "cell_type": "markdown",
   "metadata": {},
   "source": [
    "*How many users have joined between 2015 and 2020.*"
   ]
  },
  {
   "cell_type": "code",
   "execution_count": null,
   "metadata": {},
   "outputs": [],
   "source": [
    "df_user.groupBy(year('date_joined').alias('post_year')).agg(count_distinct('ind').alias('number_users_joined')) \\\n",
    "    .select('post_year', 'number_users_joined').where(col('post_year').between('2015', '2020')).show()"
   ]
  },
  {
   "attachments": {},
   "cell_type": "markdown",
   "metadata": {},
   "source": [
    "*The median follower count of users who have joined between 2015 and 2020.*"
   ]
  },
  {
   "cell_type": "code",
   "execution_count": null,
   "metadata": {},
   "outputs": [],
   "source": [
    "df_user.join(df_pin, 'ind').groupBy(year('date_joined').alias('post_year')).agg(median('follower_count').alias('median_follower_count')) \\\n",
    ".select('post_year', 'median_follower_count').where(col('post_year').between('2015', '2020')).show()"
   ]
  },
  {
   "attachments": {},
   "cell_type": "markdown",
   "metadata": {},
   "source": [
    "*The median follower count of users who have joined between 2015 and 2020, based on age group that they are part of.*"
   ]
  },
  {
   "cell_type": "code",
   "execution_count": null,
   "metadata": {
    "application/vnd.databricks.v1+cell": {
     "cellMetadata": {
      "byteLimit": 2048000,
      "rowLimit": 10000
     },
     "inputWidgets": {},
     "nuid": "0b523cd2-baa1-4b1b-81e3-e9109be4bff1",
     "showTitle": false,
     "title": ""
    }
   },
   "outputs": [
    {
     "data": {
      "text/html": [
       "<style scoped>\n",
       "  .ansiout {\n",
       "    display: block;\n",
       "    unicode-bidi: embed;\n",
       "    white-space: pre-wrap;\n",
       "    word-wrap: break-word;\n",
       "    word-break: break-all;\n",
       "    font-family: \"Source Code Pro\", \"Menlo\", monospace;;\n",
       "    font-size: 13px;\n",
       "    color: #555;\n",
       "    margin-left: 4px;\n",
       "    line-height: 19px;\n",
       "  }\n",
       "</style>\n",
       "<div class=\"ansiout\"></div>"
      ]
     },
     "metadata": {
      "application/vnd.databricks.v1+output": {
       "addedWidgets": {},
       "arguments": {},
       "data": "<div class=\"ansiout\"></div>",
       "datasetInfos": [],
       "metadata": {},
       "removedWidgets": [],
       "type": "html"
      }
     },
     "output_type": "display_data"
    },
    {
     "data": {
      "text/html": [
       "<style scoped>\n",
       "  .ansiout {\n",
       "    display: block;\n",
       "    unicode-bidi: embed;\n",
       "    white-space: pre-wrap;\n",
       "    word-wrap: break-word;\n",
       "    word-break: break-all;\n",
       "    font-family: \"Source Code Pro\", \"Menlo\", monospace;;\n",
       "    font-size: 13px;\n",
       "    color: #555;\n",
       "    margin-left: 4px;\n",
       "    line-height: 19px;\n",
       "  }\n",
       "</style>"
      ]
     },
     "metadata": {
      "application/vnd.databricks.v1+output": {
       "arguments": {},
       "data": "",
       "errorSummary": "Cancelled",
       "errorTraceType": "html",
       "metadata": {},
       "type": "ipynbError"
      }
     },
     "output_type": "display_data"
    }
   ],
   "source": [
    "df_pin.join(df_user, 'ind').withColumn('age_group', expr(\"\"\"case\n",
    " when age BETWEEN 18 AND 24 THEN '18-24'\n",
    " when age BETWEEN 25 AND 35 THEN '25-35'\n",
    " when age BETWEEN 36 AND 50 THEN '36-50'\n",
    " when age> 50 THEN '+50'\n",
    " END\n",
    " \"\"\")).groupBy(year('date_joined').alias('post_year'), 'age_group').agg(median('follower_count').alias('median_follower_count')) \\\n",
    ".select('age_group','post_year', 'median_follower_count').where(col('post_year').between('2015', '2020')).orderBy('age_group', 'post_year').show()"
   ]
  }
 ],
 "metadata": {
  "application/vnd.databricks.v1+notebook": {
   "dashboards": [],
   "language": "python",
   "notebookMetadata": {
    "mostRecentlyExecutedCommandWithImplicitDF": {
     "commandId": 4247869288787811,
     "dataframes": [
      "_sqldf"
     ]
    },
    "pythonIndentUnit": 4
   },
   "notebookName": "databricks_s3",
   "widgets": {}
  },
  "kernelspec": {
   "display_name": "pinterest",
   "language": "python",
   "name": "python3"
  },
  "language_info": {
   "codemirror_mode": {
    "name": "ipython",
    "version": 3
   },
   "file_extension": ".py",
   "mimetype": "text/x-python",
   "name": "python",
   "nbconvert_exporter": "python",
   "pygments_lexer": "ipython3",
   "version": "3.11.3"
  }
 },
 "nbformat": 4,
 "nbformat_minor": 0
}
